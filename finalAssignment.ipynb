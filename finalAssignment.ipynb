{
 "cells": [
  {
   "cell_type": "markdown",
   "metadata": {},
   "source": [
    "# Final assignment\n",
    "\n",
    "Time to condense all you've learnt through this course in a final assignment. This notebook serves as a basic template for you to fill in with the code needed to do what is requested.\n",
    "\n",
    "As always, add as many cells as you need explaining your approach. In particular, **if you do things differently than you did for previous assigments (e.g., because of the feedback received, or because you come up with new ideas), please highlight it, and explain why you changed your mind**."
   ]
  },
  {
   "cell_type": "code",
   "execution_count": 1,
   "metadata": {},
   "outputs": [],
   "source": [
    "import matplotlib.pyplot as plt\n",
    "import seaborn as sns\n",
    "import pandas as pd\n",
    "import numpy as np\n",
    "\n",
    "# Linear regression for sklearn\n",
    "import sklearn.linear_model\n",
    "from sklearn.linear_model import LinearRegression\n",
    "from sklearn.metrics import mean_squared_error, r2_score\n",
    "from sklearn.dummy import DummyRegressor\n",
    "from sklearn.model_selection import train_test_split\n",
    "import warnings\n",
    "warnings.filterwarnings(\"ignore\")\n",
    "# make the number format not to display in a scientific format\n",
    "pd.set_option('display.float_format', lambda x: '%.3f' % x)\n",
    "\n",
    "from sklearn.preprocessing import StandardScaler\n",
    "\n",
    "from sklearn.tree import DecisionTreeRegressor"
   ]
  },
  {
   "cell_type": "markdown",
   "metadata": {
    "nbgrader": {
     "grade": false,
     "locked": false,
     "solution": false
    }
   },
   "source": [
    "## 1. Load data\n",
    "\n",
    "First thing's first. Load the Used Cars Dataset, **using only the columns that you're going to use in your models**. That is, **DON'T read columns that**:\n",
    "* <u>Are obviously useless</u> (for example, unique IDs).\n",
    "\n",
    "* <u>Could be useful, but previous assignments showed you that they're not worth processing for prediction</u>.\n",
    "\n",
    "* <u>Special data types that are different from pure numbers or categories</u> (e.g., geographical or text ones). However, **extra points will be given if you use them, as you've specific material on the subject**."
   ]
  },
  {
   "cell_type": "code",
   "execution_count": 2,
   "metadata": {},
   "outputs": [
    {
     "data": {
      "text/html": [
       "<div>\n",
       "<style scoped>\n",
       "    .dataframe tbody tr th:only-of-type {\n",
       "        vertical-align: middle;\n",
       "    }\n",
       "\n",
       "    .dataframe tbody tr th {\n",
       "        vertical-align: top;\n",
       "    }\n",
       "\n",
       "    .dataframe thead th {\n",
       "        text-align: right;\n",
       "    }\n",
       "</style>\n",
       "<table border=\"1\" class=\"dataframe\">\n",
       "  <thead>\n",
       "    <tr style=\"text-align: right;\">\n",
       "      <th></th>\n",
       "      <th>price</th>\n",
       "      <th>year</th>\n",
       "      <th>manufacturer</th>\n",
       "      <th>model</th>\n",
       "      <th>condition</th>\n",
       "      <th>cylinders</th>\n",
       "      <th>fuel</th>\n",
       "      <th>odometer</th>\n",
       "      <th>title_status</th>\n",
       "      <th>transmission</th>\n",
       "      <th>drive</th>\n",
       "      <th>type</th>\n",
       "    </tr>\n",
       "  </thead>\n",
       "  <tbody>\n",
       "    <tr>\n",
       "      <th>0</th>\n",
       "      <td>6000</td>\n",
       "      <td>NaN</td>\n",
       "      <td>NaN</td>\n",
       "      <td>NaN</td>\n",
       "      <td>NaN</td>\n",
       "      <td>NaN</td>\n",
       "      <td>NaN</td>\n",
       "      <td>NaN</td>\n",
       "      <td>NaN</td>\n",
       "      <td>NaN</td>\n",
       "      <td>NaN</td>\n",
       "      <td>NaN</td>\n",
       "    </tr>\n",
       "    <tr>\n",
       "      <th>1</th>\n",
       "      <td>11900</td>\n",
       "      <td>NaN</td>\n",
       "      <td>NaN</td>\n",
       "      <td>NaN</td>\n",
       "      <td>NaN</td>\n",
       "      <td>NaN</td>\n",
       "      <td>NaN</td>\n",
       "      <td>NaN</td>\n",
       "      <td>NaN</td>\n",
       "      <td>NaN</td>\n",
       "      <td>NaN</td>\n",
       "      <td>NaN</td>\n",
       "    </tr>\n",
       "    <tr>\n",
       "      <th>2</th>\n",
       "      <td>21000</td>\n",
       "      <td>NaN</td>\n",
       "      <td>NaN</td>\n",
       "      <td>NaN</td>\n",
       "      <td>NaN</td>\n",
       "      <td>NaN</td>\n",
       "      <td>NaN</td>\n",
       "      <td>NaN</td>\n",
       "      <td>NaN</td>\n",
       "      <td>NaN</td>\n",
       "      <td>NaN</td>\n",
       "      <td>NaN</td>\n",
       "    </tr>\n",
       "    <tr>\n",
       "      <th>3</th>\n",
       "      <td>1500</td>\n",
       "      <td>NaN</td>\n",
       "      <td>NaN</td>\n",
       "      <td>NaN</td>\n",
       "      <td>NaN</td>\n",
       "      <td>NaN</td>\n",
       "      <td>NaN</td>\n",
       "      <td>NaN</td>\n",
       "      <td>NaN</td>\n",
       "      <td>NaN</td>\n",
       "      <td>NaN</td>\n",
       "      <td>NaN</td>\n",
       "    </tr>\n",
       "    <tr>\n",
       "      <th>4</th>\n",
       "      <td>4900</td>\n",
       "      <td>NaN</td>\n",
       "      <td>NaN</td>\n",
       "      <td>NaN</td>\n",
       "      <td>NaN</td>\n",
       "      <td>NaN</td>\n",
       "      <td>NaN</td>\n",
       "      <td>NaN</td>\n",
       "      <td>NaN</td>\n",
       "      <td>NaN</td>\n",
       "      <td>NaN</td>\n",
       "      <td>NaN</td>\n",
       "    </tr>\n",
       "    <tr>\n",
       "      <th>...</th>\n",
       "      <td>...</td>\n",
       "      <td>...</td>\n",
       "      <td>...</td>\n",
       "      <td>...</td>\n",
       "      <td>...</td>\n",
       "      <td>...</td>\n",
       "      <td>...</td>\n",
       "      <td>...</td>\n",
       "      <td>...</td>\n",
       "      <td>...</td>\n",
       "      <td>...</td>\n",
       "      <td>...</td>\n",
       "    </tr>\n",
       "    <tr>\n",
       "      <th>426875</th>\n",
       "      <td>23590</td>\n",
       "      <td>2019.000</td>\n",
       "      <td>nissan</td>\n",
       "      <td>maxima s sedan 4d</td>\n",
       "      <td>good</td>\n",
       "      <td>6 cylinders</td>\n",
       "      <td>gas</td>\n",
       "      <td>32226.000</td>\n",
       "      <td>clean</td>\n",
       "      <td>other</td>\n",
       "      <td>fwd</td>\n",
       "      <td>sedan</td>\n",
       "    </tr>\n",
       "    <tr>\n",
       "      <th>426876</th>\n",
       "      <td>30590</td>\n",
       "      <td>2020.000</td>\n",
       "      <td>volvo</td>\n",
       "      <td>s60 t5 momentum sedan 4d</td>\n",
       "      <td>good</td>\n",
       "      <td>NaN</td>\n",
       "      <td>gas</td>\n",
       "      <td>12029.000</td>\n",
       "      <td>clean</td>\n",
       "      <td>other</td>\n",
       "      <td>fwd</td>\n",
       "      <td>sedan</td>\n",
       "    </tr>\n",
       "    <tr>\n",
       "      <th>426877</th>\n",
       "      <td>34990</td>\n",
       "      <td>2020.000</td>\n",
       "      <td>cadillac</td>\n",
       "      <td>xt4 sport suv 4d</td>\n",
       "      <td>good</td>\n",
       "      <td>NaN</td>\n",
       "      <td>diesel</td>\n",
       "      <td>4174.000</td>\n",
       "      <td>clean</td>\n",
       "      <td>other</td>\n",
       "      <td>NaN</td>\n",
       "      <td>hatchback</td>\n",
       "    </tr>\n",
       "    <tr>\n",
       "      <th>426878</th>\n",
       "      <td>28990</td>\n",
       "      <td>2018.000</td>\n",
       "      <td>lexus</td>\n",
       "      <td>es 350 sedan 4d</td>\n",
       "      <td>good</td>\n",
       "      <td>6 cylinders</td>\n",
       "      <td>gas</td>\n",
       "      <td>30112.000</td>\n",
       "      <td>clean</td>\n",
       "      <td>other</td>\n",
       "      <td>fwd</td>\n",
       "      <td>sedan</td>\n",
       "    </tr>\n",
       "    <tr>\n",
       "      <th>426879</th>\n",
       "      <td>30590</td>\n",
       "      <td>2019.000</td>\n",
       "      <td>bmw</td>\n",
       "      <td>4 series 430i gran coupe</td>\n",
       "      <td>good</td>\n",
       "      <td>NaN</td>\n",
       "      <td>gas</td>\n",
       "      <td>22716.000</td>\n",
       "      <td>clean</td>\n",
       "      <td>other</td>\n",
       "      <td>rwd</td>\n",
       "      <td>coupe</td>\n",
       "    </tr>\n",
       "  </tbody>\n",
       "</table>\n",
       "<p>426880 rows × 12 columns</p>\n",
       "</div>"
      ],
      "text/plain": [
       "        price     year manufacturer                     model condition  \\\n",
       "0        6000      NaN          NaN                       NaN       NaN   \n",
       "1       11900      NaN          NaN                       NaN       NaN   \n",
       "2       21000      NaN          NaN                       NaN       NaN   \n",
       "3        1500      NaN          NaN                       NaN       NaN   \n",
       "4        4900      NaN          NaN                       NaN       NaN   \n",
       "...       ...      ...          ...                       ...       ...   \n",
       "426875  23590 2019.000       nissan         maxima s sedan 4d      good   \n",
       "426876  30590 2020.000        volvo  s60 t5 momentum sedan 4d      good   \n",
       "426877  34990 2020.000     cadillac          xt4 sport suv 4d      good   \n",
       "426878  28990 2018.000        lexus           es 350 sedan 4d      good   \n",
       "426879  30590 2019.000          bmw  4 series 430i gran coupe      good   \n",
       "\n",
       "          cylinders    fuel  odometer title_status transmission drive  \\\n",
       "0               NaN     NaN       NaN          NaN          NaN   NaN   \n",
       "1               NaN     NaN       NaN          NaN          NaN   NaN   \n",
       "2               NaN     NaN       NaN          NaN          NaN   NaN   \n",
       "3               NaN     NaN       NaN          NaN          NaN   NaN   \n",
       "4               NaN     NaN       NaN          NaN          NaN   NaN   \n",
       "...             ...     ...       ...          ...          ...   ...   \n",
       "426875  6 cylinders     gas 32226.000        clean        other   fwd   \n",
       "426876          NaN     gas 12029.000        clean        other   fwd   \n",
       "426877          NaN  diesel  4174.000        clean        other   NaN   \n",
       "426878  6 cylinders     gas 30112.000        clean        other   fwd   \n",
       "426879          NaN     gas 22716.000        clean        other   rwd   \n",
       "\n",
       "             type  \n",
       "0             NaN  \n",
       "1             NaN  \n",
       "2             NaN  \n",
       "3             NaN  \n",
       "4             NaN  \n",
       "...           ...  \n",
       "426875      sedan  \n",
       "426876      sedan  \n",
       "426877  hatchback  \n",
       "426878      sedan  \n",
       "426879      coupe  \n",
       "\n",
       "[426880 rows x 12 columns]"
      ]
     },
     "execution_count": 2,
     "metadata": {},
     "output_type": "execute_result"
    }
   ],
   "source": [
    "### Your code goes here\n",
    "df = pd.read_csv(\n",
    "    './vehicles.csv', \n",
    "    usecols=['price', 'year', 'manufacturer', 'condition', 'cylinders', \n",
    "             'fuel', 'odometer', 'title_status', 'transmission', 'drive', \n",
    "             'type', 'model']\n",
    ")\n",
    "df\n",
    "\n",
    "#df=df.sample(frac=0.1, replace=True, random_state=1)"
   ]
  },
  {
   "cell_type": "markdown",
   "metadata": {},
   "source": [
    "## 2. Divide into X and Y, and into training and testing set\n",
    "\n",
    "At this point, the dataframe has all features we want in our data, so it's time to split it into training and testing set. Remember some things here:\n",
    "* <u>`Y` is the `price` feature and `X` is all the rest of features</u>.\n",
    "* <u>Use fixed ratios. For example, 80% for training and 20% for testing.</u>\n",
    "* <u>We saw that there's no need to shuffle data, but if you do, justify it, and use always the same `RandomState` so that you always get the same split.</u>\n",
    "\n",
    "**REMARK**: <b><u>don't use test data from now on, till you've tuned your final model! (Step 7 below)</u></b>. Remember: **test data is like the final exam, so we can't access its questions (= test samples) until we've studied (= trained and tuned our model)**."
   ]
  },
  {
   "cell_type": "code",
   "execution_count": 3,
   "metadata": {},
   "outputs": [],
   "source": [
    "### Your code goes here\n",
    "\n",
    "X, Y = df.drop(columns=['price']), df['price']\n",
    "X_train, X_test, Y_train, Y_test = train_test_split(X, Y, train_size=0.8, shuffle=False)"
   ]
  },
  {
   "cell_type": "markdown",
   "metadata": {},
   "source": [
    "## 3. Remove problematic rows in X_train\n",
    "\n",
    "Now that we have all columns (= features or attributes) needed, it's time to remove rows (= car ads in this case) that we don't want to include. Unfortunately, **scikit-learn doesn't support transformations that remove rows** (there's an <a href=\"https://github.com/scikit-learn/scikit-learn/issues/3855\">open issue</a> about this), so **any row-removing operations must be done as preprocessing steps that cannot be included in a Pipeline**.\n",
    "\n",
    "You know from previous assignments that there're several reasons for which we may want to delete some rows. The most important ones are:\n",
    "* <u>Missing values</u>: there's some feature that has a *NaN/None* value, and we know that:\n",
    "    * <u>The feature is difficult to impute with the rest of information at hand</u> (so we don't know how to replace it with a non-missing value).\n",
    "    * <u>The fact that it's missing isn't relevant for prediction</u> (that is, if we keep it with a NaN value, the model doesn't take that fact into consideration). Note that this only applies to categorical features (as they can be encoded keeping NaNs), but not to numerical ones. **Numerical features cannot be NaN in sklearn models, except for very limited cases**.\n",
    "* <u>Outliers</u>: some value of some feature (or belonging to the target `Y`) isn't missing, but it's wrong, out of bounds, or simply doesn't make sense from the business point of view.\n",
    "\n",
    "**HINT**: once you've decided what rows to remove and with what logic, try to write a function that, given a dataset `X`, returns that same dataset without the rows that meet that logic. Why? Because you'll have to apply this function eventually to `X_test` before predicting for it (see Step 7 below).\n",
    "\n",
    "**REMARK**: why don't we remove problematic rows before splitting into training and testing? Because **that's a subtle form of data leakage**. We simply don't know what will come in `X_test` (actually we do, but we have to behave as if we didn't know!), so we need to infer from `X_train` what is \"problematic\" or an \"outlier\" and what is not. **Note that in previous assignments we cheated a bit because we used the whole dataset to discard prices that are extreme, but now we should do things properly.**\n",
    "\n",
    "We will start here with removing the missing values for the numerical variables which are the year and the odometer. We decided to drop the missing the values because both features cannot be imputed from other features. "
   ]
  },
  {
   "cell_type": "code",
   "execution_count": 4,
   "metadata": {},
   "outputs": [],
   "source": [
    "### Your code goes here\n",
    "\n",
    "## before we drop any record we will join the X_train and Y_traun together to make sure that we drop the whole record\n",
    "Train_temp = pd.concat([X_train,Y_train], axis = 1)\n",
    "\n",
    "## Now we can drop the missing values\n",
    "Train_temp = Train_temp.dropna(subset=['year', 'odometer'])  # just drop rows whenever year and/or odometer are missing\n",
    "\n",
    "#print(Train_temp.isna().mean().sort_values().rename('% of samples with NAs in each feature'))\n",
    "\n"
   ]
  },
  {
   "cell_type": "markdown",
   "metadata": {},
   "source": [
    "In the transformation part, we will try to impute the manufacturer by utilizing the model. However, If there are records that have missing model and manufacturer, we will drop them. The nxt block will check if we have both model and manufacturer missing and drop the records accordingly "
   ]
  },
  {
   "cell_type": "code",
   "execution_count": 5,
   "metadata": {},
   "outputs": [],
   "source": [
    "# If we have a record with a missing manufacturer and model, we will remove it.\n",
    "manufacturer_missing_ind=pd.DataFrame(Train_temp[Train_temp['manufacturer'].isna()].index,columns=['index'])\n",
    "model_missing_ind=pd.DataFrame(Train_temp[Train_temp['model'].isna()].index, columns=['index'])\n",
    "both_missing_ind=pd.merge(manufacturer_missing_ind,model_missing_ind, on='index', how = 'inner')\n",
    "Train_temp.drop(index=both_missing_ind['index'])\n",
    "Train_temp.reset_index(inplace=True, drop=True)\n",
    "\n"
   ]
  },
  {
   "cell_type": "markdown",
   "metadata": {},
   "source": [
    "Now we will be removing the outliers for the odometer and year by utilizing the turkey method"
   ]
  },
  {
   "cell_type": "code",
   "execution_count": 6,
   "metadata": {},
   "outputs": [],
   "source": [
    "#Tukey's method\n",
    "def tukeys_method(df, variable):\n",
    "    #Takes two parameters: dataframe & variable of interest as string\n",
    "    q1 = df[variable].quantile(0.25)\n",
    "    q3 = df[variable].quantile(0.75)\n",
    "    iqr = q3-q1\n",
    "    inner_fence = 1.5*iqr\n",
    "    outer_fence = 3*iqr\n",
    "    \n",
    "    #inner fence lower and upper end\n",
    "    inner_fence_le = q1-inner_fence\n",
    "    inner_fence_ue = q3+inner_fence\n",
    "    \n",
    "    #outer fence lower and upper end\n",
    "    outer_fence_le = q1-outer_fence\n",
    "    outer_fence_ue = q3+outer_fence\n",
    " \n",
    "    for index, x in enumerate(df[variable]):\n",
    "        if x <= outer_fence_le or x >= outer_fence_ue:\n",
    "            #outliers_prob.append(x)\n",
    "            df = df[df[variable] != x]\n",
    "    return df"
   ]
  },
  {
   "cell_type": "code",
   "execution_count": 7,
   "metadata": {},
   "outputs": [],
   "source": [
    "\n",
    "# Now let's remove the outliers from the odometer and year\n",
    "Train_temp = tukeys_method(Train_temp,'odometer')\n",
    "Train_temp = tukeys_method(Train_temp,'year')\n",
    "Train_temp = tukeys_method(Train_temp,'price')\n",
    "\n",
    "# After droping the problomatic rows we split the X and Y again\n",
    "X_train, Y_train = Train_temp.drop(columns=['price']), Train_temp['price']\n",
    "X_train_original, Y_train_original = Train_temp.drop(columns=['price']), Train_temp['price']"
   ]
  },
  {
   "cell_type": "markdown",
   "metadata": {},
   "source": [
    "## 4. Transform X_train\n",
    "\n",
    "At this point, you know that `X_train` has all necessary features, and you also know that the rows that have remained from the previous steps are the ones you're going to train with.\n",
    "\n",
    "This is the core part. Consider all the features you loaded in point 1, and what you've done so far regarding missing values. **You need to take into consideration these facts**:\n",
    "* <u>Numerical features cannot have missing values</u>.\n",
    "* <u>Unless you use some particular models (e.g., trees), numerical features need to be scaled</u>. **This is particularly important if in step 5 you're using a linear model, or a non-linear model that relies on scalar products** (e.g., SVMs on Neural Networks).\n",
    "* <u>All non-numerical features must be transformed into numbers</u>, so:\n",
    "    * <u>Categorical features should be one-hot encoded</u> (perhaps with NaNs, perhaps without them).\n",
    "    * <u>Ordinal features should be categorized and then one-hot encoded, or transformed into numbers somehow</u>.\n",
    "    * <u>Text features should be tf-idf vectorized</u> (if you use them, and unless you use some more advanced NLP packages).\n",
    "    * <u>Geographical features are tricky</u>. If numerical (such as coordinates), those numbers can only lie in particular ranges. If categorical, usually they follow a hierarchy (for examples regions include states, which include counties). Think carefully about what to do with these!\n",
    "* <u>If you are imputing missing values for some feature, the logic must be included in this step.</u>\n",
    "* <u>If you need to discard some feature because it's used at this step but not anymore, drop it now.</u> For example, if you use `model` to impute missing values in other features, but you don't want to use it for training because it has too many categories.\n",
    "    \n",
    "**HINT**: once you've thought about it, try to condense this into a `ColumnTransformer` that splits processing between different kinds of features. Depending on what you do, it's possible that some of those kind-specific transformations need to be compound too (i.e., not just single transformers but `Pipelines`, `FeatureUnions` or `ColumnTransformers`). Remember about recursion!\n",
    "\n",
    "**HINT**: if you're doing things which aren't included in scikit-learn, such as imputing missing values with some more elaborate logic than replacing by mean or mode (so that `SimpleImputer` isn't enough), you can also **write your own transformers**. To do this, you'll need to write a class that inherits from `BaseEstimator` and `TransformerMixin` and implement yourself the `fit(X)` and the `transform(X)` methods."
   ]
  },
  {
   "cell_type": "code",
   "execution_count": 8,
   "metadata": {},
   "outputs": [],
   "source": [
    "def impute_by_model(X):\n",
    "    for col in ['manufacturer','type','cylinders']:\n",
    "        model_by_manu = X.groupby(['model',col], as_index=False).size()\n",
    "        Manu_null=X[X[col].isna()]\n",
    "        for i in Manu_null.iterrows():\n",
    "            model=Manu_null.at[i[0],'model']\n",
    "            temp = model_by_manu[model_by_manu['model'] == model]\n",
    "            if len(temp) != 0:\n",
    "                ind = temp[['size']].idxmax()\n",
    "                X.at[i[0],col] = temp.at[ind[0],col]\n",
    "    X=X.drop(columns=['model'])\n",
    "    return X"
   ]
  },
  {
   "cell_type": "code",
   "execution_count": 9,
   "metadata": {},
   "outputs": [],
   "source": [
    "def replace_missing_by_mode(X):\n",
    "    for col in ['manufacturer','type','cylinders','fuel','title_status','transmission','condition','drive']:\n",
    "        X[col]= X[col].where(~(X[col].isna()), other=X[col].mode()[0], inplace=False)\n",
    "    return X"
   ]
  },
  {
   "cell_type": "markdown",
   "metadata": {},
   "source": [
    "For the manufacturer & type columns we will transform it by using the average price of each one."
   ]
  },
  {
   "cell_type": "code",
   "execution_count": 10,
   "metadata": {},
   "outputs": [],
   "source": [
    "def transform_by_avrgprice(X,X_train=X_train_original,Y_train=Y_train_original):\n",
    "    Train_temp = pd.concat([X_train,Y_train], axis = 1)\n",
    "    for col in ['manufacturer','type']:\n",
    "        df_man_train = Train_temp.groupby(col)[['price']].mean().sort_values(by=['price'], ascending=False).rename(\n",
    "            columns={'price': col+'_avg_price'})\n",
    "\n",
    "        # Now we create the dictionary:\n",
    "        df_dict_man_train = df_man_train.to_dict()[col+'_avg_price']\n",
    "\n",
    "        # And create a new variable based on each manufacturer's average price:\n",
    "        X[col+'_avg_price'] = X[col].replace(df_dict_man_train)\n",
    "        \n",
    "        # Now we can drop the columns\n",
    "        X=X.drop(columns=col)\n",
    "        \n",
    "    return X"
   ]
  },
  {
   "cell_type": "markdown",
   "metadata": {},
   "source": [
    "For the rest of the columns we will use the one hot encouding"
   ]
  },
  {
   "cell_type": "code",
   "execution_count": 11,
   "metadata": {
    "scrolled": false
   },
   "outputs": [],
   "source": [
    "from sklearn.preprocessing import OneHotEncoder\n",
    "\n",
    "def fun_ohe (X):\n",
    "    \n",
    "    for variable in ['cylinders','fuel','title_status','transmission','condition','drive']:\n",
    "        ohe = OneHotEncoder(sparse=False, drop='first')\n",
    "        ohe.fit(X[[variable]])\n",
    "        ohe_df = pd.DataFrame(ohe.transform(X[[variable]]),\n",
    "                     columns = ohe.get_feature_names([variable]))\n",
    "        ohe_df.set_index(X.index, inplace=True)\n",
    "        X=pd.concat([X, ohe_df], axis=1).drop([variable], axis=1)\n",
    "    return X"
   ]
  },
  {
   "cell_type": "code",
   "execution_count": 12,
   "metadata": {},
   "outputs": [],
   "source": [
    "from sklearn import preprocessing\n",
    "def scaling(X):\n",
    "    X = X.values\n",
    "    Standard_Scaler = preprocessing.StandardScaler()\n",
    "    X = Standard_Scaler.fit_transform(X)\n",
    "    X = pd.DataFrame(X)\n",
    "    return X"
   ]
  },
  {
   "cell_type": "code",
   "execution_count": 13,
   "metadata": {},
   "outputs": [],
   "source": [
    "from sklearn.pipeline import Pipeline, make_pipeline\n",
    "\n",
    "def Pipe_data_preprocess(X):\n",
    "    X = X.pipe(impute_by_model).pipe(replace_missing_by_mode).pipe(transform_by_avrgprice).pipe(fun_ohe).pipe(scaling)\n",
    "    return X\n"
   ]
  },
  {
   "cell_type": "code",
   "execution_count": 14,
   "metadata": {
    "scrolled": false
   },
   "outputs": [],
   "source": [
    "X_train = Pipe_data_preprocess(X_train)"
   ]
  },
  {
   "cell_type": "markdown",
   "metadata": {},
   "source": [
    "## 5. Train models\n",
    "\n",
    "Data are now in a suitable way for any model we want to train. Missing values have been dropped or filled, there're no outliers, numbers have been scaled, etc. Try to keep in mind lessons learnt in ML1 and ML2, as to which models may be more suitable for this problem, slower/faster to train, etc.\n",
    "\n",
    "Also **decide on what metric to use to measure performance**; the one you feel more comfortable with, whatever. In any case, follow this motto: \"start simple, and then add complexity little by little\". The usual procedure is:\n",
    "1. <u>Start with a really simple model</u>, perhaps even a `DummyRegressor` (or `DummyClassifier` if this was a classification problem). Such a simple model is very fast to train, and it gives you **a value of the error metric that you must improve. If you do worse than this, you're making some mistake in your pipeline**.\n",
    "2. Once you've that reference dummy performance, <u>turn linear</u>. Use simple linear models, and see where you can get. **The new error should be better than the dummy one, but probably still not very satisfactory**. In any case, **this becomes the new reference to beat**.\n",
    "3. Once you've the reference linear performance, <u>turn non-linear, but interpretable</u>. This is where trees, nearest neighbors or naïve bayes come in handy, as they're easily intepreted (if-then rules, using very similar samples, or using independent probabilities). **Most likely you'll get an error which is even better than linear one, so this becomes the new reference**.\n",
    "4. <u>Turn non-linear and non-interpretable</u>. Typically here we use models like SVMs or Neural Networks, which are even more powerful, but harder to train and particularly difficult to explain in simple words.\n",
    "5. If not even all of this is enough, <u>build ensembles</u>. That is, not relying on a single model, but combining what several models say.\n",
    "\n",
    "**HINT**: build a `Pipeline` with the previous preprocessing transformations, and whose final step is the model you want to try. This ensures that transformations are applied before training.\n",
    "\n",
    "**HINT**: use `GridSearchCV/RandomizedSearchCV` to not only try the default model, but also tune its more important hyperparameters. Remember that a `Pipeline` is an estimator, so that's what you feed into the search. Also, remember the double underscore trick to specify that a parameter belongs to the estimator, and also recall the different CV strategies. **If you don't do CV, you'll most likely end up overfitting.**"
   ]
  },
  {
   "cell_type": "code",
   "execution_count": 15,
   "metadata": {},
   "outputs": [
    {
     "data": {
      "text/plain": [
       "DummyRegressor()"
      ]
     },
     "execution_count": 15,
     "metadata": {},
     "output_type": "execute_result"
    }
   ],
   "source": [
    "### Using dummy regressor by utilizing the mean stategy\n",
    "dummy_regr = DummyRegressor(strategy=\"mean\")\n",
    "dummy_regr.fit(X_train, Y_train)\n"
   ]
  },
  {
   "cell_type": "code",
   "execution_count": 16,
   "metadata": {},
   "outputs": [
    {
     "data": {
      "text/plain": [
       "LinearRegression()"
      ]
     },
     "execution_count": 16,
     "metadata": {},
     "output_type": "execute_result"
    }
   ],
   "source": [
    "### Using linear regression\n",
    "Lin_regr = sklearn.linear_model.LinearRegression()\n",
    "Lin_regr.fit(X_train, Y_train)\n"
   ]
  },
  {
   "cell_type": "code",
   "execution_count": 21,
   "metadata": {},
   "outputs": [
    {
     "data": {
      "text/plain": [
       "GridSearchCV(cv=5, estimator=KNeighborsRegressor(),\n",
       "             param_grid={'n_neighbors': [4, 5, 6, 7]},\n",
       "             scoring='neg_root_mean_squared_error')"
      ]
     },
     "execution_count": 21,
     "metadata": {},
     "output_type": "execute_result"
    }
   ],
   "source": [
    "### Using KNN with CV\n",
    "from sklearn.neighbors import KNeighborsRegressor\n",
    "from sklearn.model_selection import GridSearchCV\n",
    "Knn_reg = KNeighborsRegressor()\n",
    "Knn_grid = {'n_neighbors': [4,5,6,7]}\n",
    "Knn_model = GridSearchCV(Knn_reg, Knn_grid, scoring='neg_root_mean_squared_error', cv = 5)\n",
    "Knn_model.fit(X_train, Y_train)"
   ]
  },
  {
   "cell_type": "code",
   "execution_count": 23,
   "metadata": {},
   "outputs": [
    {
     "data": {
      "text/plain": [
       "{'n_neighbors': 7}"
      ]
     },
     "execution_count": 23,
     "metadata": {},
     "output_type": "execute_result"
    }
   ],
   "source": [
    "Knn_model.best_params_"
   ]
  },
  {
   "cell_type": "code",
   "execution_count": 24,
   "metadata": {},
   "outputs": [
    {
     "data": {
      "text/plain": [
       "GridSearchCV(cv=5, estimator=MLPRegressor(),\n",
       "             param_grid={'early_stopping': [True],\n",
       "                         'hidden_layer_sizes': [20, (20, 20, 20),\n",
       "                                                (20, 20, 20, 20, 20)]},\n",
       "             scoring='neg_root_mean_squared_error')"
      ]
     },
     "execution_count": 24,
     "metadata": {},
     "output_type": "execute_result"
    }
   ],
   "source": [
    "## Using Nueral Network\n",
    "### we will try to tune the network with 3,5 or 7 layers using grid search. We will fix the number of nodes to 30\n",
    "\n",
    "from sklearn.neural_network import MLPRegressor\n",
    "from sklearn.model_selection import GridSearchCV\n",
    "NN_reg = MLPRegressor()\n",
    "NN_grid = {'hidden_layer_sizes': [(20),(20,20,20),(20,20,20,20,20)], 'early_stopping': [True]}\n",
    "NN_model = GridSearchCV(NN_reg, NN_grid, scoring='neg_root_mean_squared_error', cv = 5)\n",
    "NN_model.fit(X_train, Y_train)"
   ]
  },
  {
   "cell_type": "code",
   "execution_count": 25,
   "metadata": {},
   "outputs": [
    {
     "data": {
      "text/plain": [
       "{'early_stopping': True, 'hidden_layer_sizes': (20, 20, 20, 20, 20)}"
      ]
     },
     "execution_count": 25,
     "metadata": {},
     "output_type": "execute_result"
    }
   ],
   "source": [
    "NN_model.best_params_"
   ]
  },
  {
   "cell_type": "code",
   "execution_count": null,
   "metadata": {},
   "outputs": [],
   "source": [
    "# Using SVM\n",
    "import sklearn.svm\n",
    "from sklearn.model_selection import GridSearchCV\n",
    "\n",
    "SVR_Grid = {'C' : [1,5,10]}\n",
    "\n",
    "SVR_Reg = sklearn.svm.SVR()\n",
    "\n",
    "SVR_model = GridSearchCV(SVR_Reg,SVR_Grid, scoring='neg_root_mean_squared_error', cv=5)\n",
    "\n",
    "SVR_model.fit(X_train,Y_train)"
   ]
  },
  {
   "cell_type": "code",
   "execution_count": null,
   "metadata": {},
   "outputs": [],
   "source": [
    "SVR_model.best_params_"
   ]
  },
  {
   "cell_type": "markdown",
   "metadata": {},
   "source": [
    "## 6. Decide what the final model would be\n",
    "\n",
    "After having done all the previous steps, you'll have trained several models. Now you need to **decide which of those is the one you're going to choose as your best**. Following the exam metaphor, you have to pick your best student to win the ML Olympics!\n",
    "\n",
    "**HINT**: in order to try different models, you can write an outer loop that tries different estimators, as well as what hyperparameters and values for those hyperparameters are to be tried in the CV search. This loop calls CV search, picks its `best_estimator_` and compares its performance with the best performance you had so far. If the new one is better than your current best, this becomes your new best.\n",
    "\n",
    "**HINT**: it's not always about performance (= score). Sometimes you can improve a bit the score, at the expense of training a model that takes way longer, or that requires much more memory. Besides this, clients usually require some interpretability on the model, so think twice about what \"best\" means."
   ]
  },
  {
   "cell_type": "code",
   "execution_count": 26,
   "metadata": {},
   "outputs": [
    {
     "name": "stdout",
     "output_type": "stream",
     "text": [
      "14257.227082995028\n"
     ]
    }
   ],
   "source": [
    "### Your code goes here\n",
    "## Dummy regressor predictor\n",
    "dummy_regr_pred_train = dummy_regr.predict(X_train)\n",
    "print(mean_squared_error(dummy_regr_pred_train,Y_train,squared=False))"
   ]
  },
  {
   "cell_type": "code",
   "execution_count": 27,
   "metadata": {},
   "outputs": [
    {
     "name": "stdout",
     "output_type": "stream",
     "text": [
      "10359.812667667422\n"
     ]
    }
   ],
   "source": [
    "## Linear Regressor predictor\n",
    "Lin_train_predicted = Lin_regr.predict(X_train)\n",
    "print(mean_squared_error(Lin_train_predicted,Y_train,squared=False))"
   ]
  },
  {
   "cell_type": "code",
   "execution_count": 33,
   "metadata": {},
   "outputs": [
    {
     "name": "stdout",
     "output_type": "stream",
     "text": [
      "The best KNN model score is  -9277.560981152643\n",
      "6430.898958791743\n"
     ]
    }
   ],
   "source": [
    "## KNN predictor\n",
    "best_knn = Knn_model.best_estimator_\n",
    "Knn_train_predict = best_knn.predict(X_train)\n",
    "print('The best KNN model score is ', Knn_model.best_score_)\n",
    "print(mean_squared_error(Knn_train_predict,Y_train,squared=False))"
   ]
  },
  {
   "cell_type": "code",
   "execution_count": 34,
   "metadata": {},
   "outputs": [
    {
     "name": "stdout",
     "output_type": "stream",
     "text": [
      "The best NN model score is  -9706.744309802121\n",
      "9495.164233635734\n"
     ]
    }
   ],
   "source": [
    "## Neural Networks predictor\n",
    "best_NN = NN_model.best_estimator_\n",
    "NN_train_predict = best_NN.predict(X_train)\n",
    "print('The best NN model score is ', NN_model.best_score_)\n",
    "print(mean_squared_error(NN_train_predict,Y_train,squared=False))"
   ]
  },
  {
   "cell_type": "code",
   "execution_count": null,
   "metadata": {},
   "outputs": [],
   "source": [
    "## SVM Predictor\n",
    "best_svr = SVR_model.best_estimator_\n",
    "SVR_train_predict = best_svr.predict(X_train)\n",
    "print('The best SVM model score is ', SVM_model.best_score_)\n",
    "print(mean_squared_error(SVR_train_predict,Y_train,squared=False))"
   ]
  },
  {
   "cell_type": "markdown",
   "metadata": {},
   "source": [
    "## 7. Test your final model\n",
    "\n",
    "Time to recover `X_test`, which was put on hold since Step 2. Now you've a final `Pipeline` from Step 6, which knows how to transform the data in `X_test` (Step 4) and knows how to predict (because it's been fit by Step 5).\n",
    "\n",
    "**HINT**: **beware that Step 3 hasn't been applied to the test set!** You need to do that before calling `Pipeline.score(X_test)`. For example, if your model doesn't deal with missing values, you need to remove any row from `X_test` that has missing values! Otherwise the code will crash."
   ]
  },
  {
   "cell_type": "markdown",
   "metadata": {},
   "source": [
    "From section 6 we can conclude that KNN is the best model, however, we will also check test with the neural network since the RMSE score are very close."
   ]
  },
  {
   "cell_type": "code",
   "execution_count": 35,
   "metadata": {},
   "outputs": [],
   "source": [
    "### Your code goes here\n",
    "## Before we can start testing with the test set, we need to transoform X_test.\n",
    "Test_temp = pd.concat([X_test,Y_test], axis = 1)\n",
    "Test_temp = Test_temp.dropna(subset=['year', 'odometer']) #just drop rows whenever year and/or odometer are missing\n",
    "\n",
    "manufacturer_missing_ind=pd.DataFrame(Test_temp[Test_temp['manufacturer'].isna()].index,columns=['index'])\n",
    "model_missing_ind=pd.DataFrame(Test_temp[Test_temp['model'].isna()].index, columns=['index'])\n",
    "both_missing_ind=pd.merge(manufacturer_missing_ind,model_missing_ind, on='index', how = 'inner')\n",
    "Test_temp.drop(index=both_missing_ind['index'])\n",
    "Test_temp.reset_index(inplace=True, drop=True)\n",
    "\n",
    "Test_temp = tukeys_method(Test_temp,'price')\n",
    "\n",
    "X_test, Y_test = Test_temp.drop(columns=['price']), Test_temp['price']\n",
    "\n",
    "X_test= Pipe_data_preprocess(X_test)\n"
   ]
  },
  {
   "cell_type": "code",
   "execution_count": 36,
   "metadata": {},
   "outputs": [
    {
     "name": "stdout",
     "output_type": "stream",
     "text": [
      "12074.461572208716\n"
     ]
    }
   ],
   "source": [
    "## The KNN with 7 nighbors was the best estimator, therefore, we will test with it.\n",
    "Knn_test_predict = best_knn.predict(X_test)\n",
    "print(mean_squared_error(Knn_test_predict,Y_test,squared=False))"
   ]
  },
  {
   "cell_type": "code",
   "execution_count": 37,
   "metadata": {},
   "outputs": [
    {
     "name": "stdout",
     "output_type": "stream",
     "text": [
      "11568.433320615046\n"
     ]
    }
   ],
   "source": [
    "best_NN = NN_model.best_estimator_\n",
    "NN_test_predict = best_NN.predict(X_test)\n",
    "print(mean_squared_error(NN_test_predict,Y_test,squared=False))"
   ]
  },
  {
   "cell_type": "markdown",
   "metadata": {},
   "source": [
    "## 8. (Optional) Revisit what you've done\n",
    "\n",
    "Once you get the score for `X_test`, it's tempting to try to improve even more. If you got a much worse performance than for `X_train`, chances are that you're overfitting, so you need to refine your CV strategy, use regularization, or choose parameters that don't drive to that (for example, don't let a tree grow without limit!).\n",
    "\n",
    "This is like when you fail an exam, and you want to have another try. The catch is that you already know what the exam is (you saw `X_test`), and you also got your marks (the `score`), so it's not taking another similar exam (as would happen in real life), but taking the same exam again. Strictly speaking, this is another subtle form of data leakage, but a widely used one. The hope is that by refining the training strategy, even if we're cheating a bit, the behavior of the final model when it actually takes another, different exam (that is, when it's put into production), will be better than our current one would have obtained.\n",
    "\n",
    "So we're going to **overlook this fact and allow that, given the results in Step 7, you can go back, try again, change your final estimator in Step 6 and retry Step 7, until you can't get any better**.\n",
    "\n",
    "**HINT**: besides the score, you can also plot your predictions against reality, and try to infer when you predict wrongly. This can give you insights on how to improve the model and/or the pre-processing part."
   ]
  },
  {
   "cell_type": "markdown",
   "metadata": {},
   "source": [
    "**It looks like the KNN model is over fitting, let's try to search for better model by increasing the number of neighbours in the search grid**"
   ]
  },
  {
   "cell_type": "code",
   "execution_count": 38,
   "metadata": {},
   "outputs": [
    {
     "data": {
      "text/plain": [
       "GridSearchCV(cv=5, estimator=KNeighborsRegressor(),\n",
       "             param_grid={'n_neighbors': [9, 11, 13, 15]},\n",
       "             scoring='neg_root_mean_squared_error')"
      ]
     },
     "execution_count": 38,
     "metadata": {},
     "output_type": "execute_result"
    }
   ],
   "source": [
    "### Your code goes here\n",
    "# Let's try to improve the KNN by searching more neighbours 9, 11, 13 & 15\n",
    "Knn_reg = KNeighborsRegressor()\n",
    "Knn_grid = {'n_neighbors': [9,11,13, 15]}\n",
    "Knn_model = GridSearchCV(Knn_reg, Knn_grid, scoring='neg_root_mean_squared_error', cv = 5)\n",
    "Knn_model.fit(X_train, Y_train)"
   ]
  },
  {
   "cell_type": "code",
   "execution_count": 39,
   "metadata": {},
   "outputs": [
    {
     "data": {
      "text/plain": [
       "{'n_neighbors': 9}"
      ]
     },
     "execution_count": 39,
     "metadata": {},
     "output_type": "execute_result"
    }
   ],
   "source": [
    "Knn_model.best_params_"
   ]
  },
  {
   "cell_type": "code",
   "execution_count": 40,
   "metadata": {},
   "outputs": [
    {
     "name": "stdout",
     "output_type": "stream",
     "text": [
      "The best KNN model score is  -9279.987865077841\n",
      "6792.315012936213\n"
     ]
    }
   ],
   "source": [
    "#let's implement the best model on training set\n",
    "best_knn = Knn_model.best_estimator_\n",
    "Knn_train_predict = best_knn.predict(X_train)\n",
    "print('The best KNN model score is ', Knn_model.best_score_)\n",
    "print(mean_squared_error(Knn_train_predict,Y_train,squared=False))"
   ]
  },
  {
   "cell_type": "code",
   "execution_count": 41,
   "metadata": {},
   "outputs": [
    {
     "name": "stdout",
     "output_type": "stream",
     "text": [
      "11987.403133899445\n"
     ]
    }
   ],
   "source": [
    "# now let's test with the best model\n",
    "Knn_test_predict = best_knn.predict(X_test)\n",
    "print(mean_squared_error(Knn_test_predict,Y_test,squared=False))"
   ]
  },
  {
   "cell_type": "markdown",
   "metadata": {},
   "source": [
    "**The model was improved but still it looks like overfitting. We will increase the number of neighbours and check again.**"
   ]
  },
  {
   "cell_type": "code",
   "execution_count": 42,
   "metadata": {},
   "outputs": [
    {
     "data": {
      "text/plain": [
       "GridSearchCV(cv=5, estimator=KNeighborsRegressor(),\n",
       "             param_grid={'n_neighbors': [13, 15, 17, 19]},\n",
       "             scoring='neg_root_mean_squared_error')"
      ]
     },
     "execution_count": 42,
     "metadata": {},
     "output_type": "execute_result"
    }
   ],
   "source": [
    "# Let's try to improve the KNN by searching more neighbours 13, 15, 17 & 19\n",
    "Knn_reg = KNeighborsRegressor()\n",
    "Knn_grid = {'n_neighbors': [13,15,17,19]}\n",
    "Knn_model = GridSearchCV(Knn_reg, Knn_grid, scoring='neg_root_mean_squared_error', cv = 5)\n",
    "Knn_model.fit(X_train, Y_train)"
   ]
  },
  {
   "cell_type": "code",
   "execution_count": 43,
   "metadata": {},
   "outputs": [
    {
     "data": {
      "text/plain": [
       "{'n_neighbors': 13}"
      ]
     },
     "execution_count": 43,
     "metadata": {},
     "output_type": "execute_result"
    }
   ],
   "source": [
    "Knn_model.best_params_"
   ]
  },
  {
   "cell_type": "code",
   "execution_count": 44,
   "metadata": {},
   "outputs": [
    {
     "name": "stdout",
     "output_type": "stream",
     "text": [
      "The best NN model score is  -9706.744309802121\n",
      "7270.736951403021\n"
     ]
    }
   ],
   "source": [
    "#let's implement the best model on training set\n",
    "best_knn = Knn_model.best_estimator_\n",
    "Knn_train_predict = best_knn.predict(X_train)\n",
    "print('The best NN model score is ', NN_model.best_score_)\n",
    "print(mean_squared_error(Knn_train_predict,Y_train,squared=False))"
   ]
  },
  {
   "cell_type": "code",
   "execution_count": 45,
   "metadata": {},
   "outputs": [
    {
     "name": "stdout",
     "output_type": "stream",
     "text": [
      "11885.190811506334\n"
     ]
    }
   ],
   "source": [
    "# now let's test with the best model\n",
    "Knn_test_predict = best_knn.predict(X_test)\n",
    "print(mean_squared_error(Knn_test_predict,Y_test,squared=False))"
   ]
  },
  {
   "cell_type": "markdown",
   "metadata": {},
   "source": [
    "Now we will try to improve the neural network by changing the number of nodes using only **one layer**\n",
    "we will try to tune the network with **20, 30** or **40 neurones** using grid search.\n",
    "we will try **both rectified linear unit (relu)** or **logistic sigmoid function (logistic)** "
   ]
  },
  {
   "cell_type": "code",
   "execution_count": 46,
   "metadata": {},
   "outputs": [
    {
     "data": {
      "text/plain": [
       "GridSearchCV(cv=5, estimator=MLPRegressor(),\n",
       "             param_grid={'activation': ['relu', 'logistic'],\n",
       "                         'early_stopping': [True],\n",
       "                         'hidden_layer_sizes': [20, 30, 40]},\n",
       "             scoring='neg_root_mean_squared_error')"
      ]
     },
     "execution_count": 46,
     "metadata": {},
     "output_type": "execute_result"
    }
   ],
   "source": [
    "from sklearn.neural_network import MLPRegressor\n",
    "from sklearn.model_selection import GridSearchCV\n",
    "NN_reg = MLPRegressor()\n",
    "NN_grid = {'hidden_layer_sizes': [(20),(30),(40)], 'activation': ['relu','logistic'], 'early_stopping': [True]}\n",
    "NN_model = GridSearchCV(NN_reg, NN_grid, scoring='neg_root_mean_squared_error', cv = 5)\n",
    "NN_model.fit(X_train, Y_train)"
   ]
  },
  {
   "cell_type": "code",
   "execution_count": 47,
   "metadata": {},
   "outputs": [
    {
     "data": {
      "text/plain": [
       "{'activation': 'relu', 'early_stopping': True, 'hidden_layer_sizes': 40}"
      ]
     },
     "execution_count": 47,
     "metadata": {},
     "output_type": "execute_result"
    }
   ],
   "source": [
    "NN_model.best_params_"
   ]
  },
  {
   "cell_type": "code",
   "execution_count": 48,
   "metadata": {},
   "outputs": [
    {
     "name": "stdout",
     "output_type": "stream",
     "text": [
      "The best NN model score is  -9871.967548808569\n",
      "9757.268437734008\n"
     ]
    }
   ],
   "source": [
    "best_NN = NN_model.best_estimator_\n",
    "NN_train_predict = best_NN.predict(X_train)\n",
    "print('The best NN model score is ', NN_model.best_score_)\n",
    "print(mean_squared_error(NN_train_predict,Y_train,squared=False))"
   ]
  },
  {
   "cell_type": "code",
   "execution_count": 49,
   "metadata": {},
   "outputs": [
    {
     "name": "stdout",
     "output_type": "stream",
     "text": [
      "11509.879186786744\n"
     ]
    }
   ],
   "source": [
    "best_NN = NN_model.best_estimator_\n",
    "NN_test_predict = best_NN.predict(X_test)\n",
    "print(mean_squared_error(NN_test_predict,Y_test,squared=False))"
   ]
  },
  {
   "cell_type": "markdown",
   "metadata": {},
   "source": [
    "In conclusion, the best model will be the neural network with one hidden layer and rectified linear unit (relu) activation."
   ]
  },
  {
   "cell_type": "markdown",
   "metadata": {},
   "source": [
    "## 9. (Not Optional) Study for your final exam!\n",
    "\n",
    "I hope that this final assignment, together with previous ones, gives you a clear view on how ML must be done in real life. I also hope that it's useful for making up your mind, clarifying concepts and understanding much better all we've seen.\n",
    "\n",
    "All the course slides, notebooks, assignments, feedbacks and forum answers are now your personal `X_train`, your training dataset. So now it's just calling `fit` on yourselves, attending the exam, seeing what the questions in `X_test` are, calling `predict(X_test)` on yourselves (that is, trying to answer correctly all `Y_test`), and getting the highest score possible!\n",
    "\n",
    "Real life is like ML, or ML is like real life, the way you prefer to see it. Thanks for your patience!"
   ]
  }
 ],
 "metadata": {
  "anaconda-cloud": {},
  "kernelspec": {
   "display_name": "Python 3 (ipykernel)",
   "language": "python",
   "name": "python3"
  },
  "language_info": {
   "codemirror_mode": {
    "name": "ipython",
    "version": 3
   },
   "file_extension": ".py",
   "mimetype": "text/x-python",
   "name": "python",
   "nbconvert_exporter": "python",
   "pygments_lexer": "ipython3",
   "version": "3.8.3"
  }
 },
 "nbformat": 4,
 "nbformat_minor": 1
}
